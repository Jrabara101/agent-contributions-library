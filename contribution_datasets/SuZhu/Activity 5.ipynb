{
 "cells": [
  {
   "cell_type": "code",
   "execution_count": 25,
   "metadata": {},
   "outputs": [],
   "source": [
    "from bs4 import BeautifulSoup as bs\n",
    "import requests\n",
    "import pandas as pd"
   ]
  },
  {
   "cell_type": "code",
   "execution_count": 26,
   "metadata": {},
   "outputs": [],
   "source": [
    "web = 'https://nymag.com/intelligencer/article/three-arrows-capital-kyle-davies-su-zhu-crash.html'\n",
    "response = requests.get(web).text\n",
    "soup = bs(response,'lxml')"
   ]
  },
  {
   "cell_type": "code",
   "execution_count": 27,
   "metadata": {},
   "outputs": [],
   "source": [
    "blocks = soup.find_all('p')"
   ]
  },
  {
   "cell_type": "code",
   "execution_count": 28,
   "metadata": {},
   "outputs": [],
   "source": [
    "contents = []\n",
    "\n",
    "for content in blocks:\n",
    "    contents.append(content.text)"
   ]
  },
  {
   "cell_type": "code",
   "execution_count": 29,
   "metadata": {},
   "outputs": [],
   "source": [
    "joined_contents = ' '.join(contents)"
   ]
  },
  {
   "cell_type": "code",
   "execution_count": 30,
   "metadata": {},
   "outputs": [],
   "source": [
    "sentence_endings = [\".\", \"!\", \"?\"]\n",
    "sentences = []\n",
    "\n",
    "start = 0\n",
    "for i, char in enumerate(joined_contents):\n",
    "    if char in sentence_endings:\n",
    "        # Include the punctuation mark with the sentence\n",
    "        sentences.append(joined_contents[start:i+1].strip())\n",
    "        start = i + 1  # Move past the punctuation mark\n",
    "\n",
    "#Group the sentences into chunks of 2\n",
    "chunks = [\" \".join(sentences[i:i+2]) for i in range(0, len(sentences), 2)]"
   ]
  },
  {
   "cell_type": "code",
   "execution_count": 31,
   "metadata": {},
   "outputs": [],
   "source": [
    "cz_keywords = [\n",
    "    \"Cryptocurrency\"\n",
    "    \"Three Arrows Capital\", \n",
    "    \"Su Zhu\", \n",
    "    \"Kyle Davies\", \n",
    "    \"Zhu\", \n",
    "    \"Davies\", \n",
    "    \"Phillips Academy\",\n",
    "    \"Hedge fund collapse\",\n",
    "    \"Liquidation\",\n",
    "    \"Financial crisis\",\n",
    "    \"Mismanagement\",\n",
    "    \"Crypto market crash\"\n",
    "]\n"
   ]
  },
  {
   "cell_type": "code",
   "execution_count": 32,
   "metadata": {},
   "outputs": [],
   "source": [
    "# Function to find keywords in a sentence\n",
    "def find_keywords(sentence, keywords):\n",
    "    return [keyword for keyword in keywords if keyword.lower() in sentence.lower()]\n",
    "\n",
    "# Function to replace empty keyword lists with 'other'\n",
    "def process_keywords(keywords):\n",
    "    return ', '.join(keywords) if keywords else \"other\""
   ]
  },
  {
   "cell_type": "code",
   "execution_count": 33,
   "metadata": {},
   "outputs": [],
   "source": [
    "data = {'contents':[],'keywords':[]}\n",
    "\n",
    "# Process each sentence\n",
    "for sentence in chunks:\n",
    "    found_keywords = find_keywords(sentence, cz_keywords)\n",
    "    data['contents'].append(sentence)\n",
    "    data['keywords'].append(process_keywords(found_keywords))"
   ]
  },
  {
   "cell_type": "code",
   "execution_count": 34,
   "metadata": {},
   "outputs": [],
   "source": [
    "df = pd.DataFrame(data)"
   ]
  },
  {
   "cell_type": "code",
   "execution_count": 35,
   "metadata": {},
   "outputs": [
    {
     "data": {
      "text/html": [
       "<div>\n",
       "<style scoped>\n",
       "    .dataframe tbody tr th:only-of-type {\n",
       "        vertical-align: middle;\n",
       "    }\n",
       "\n",
       "    .dataframe tbody tr th {\n",
       "        vertical-align: top;\n",
       "    }\n",
       "\n",
       "    .dataframe thead th {\n",
       "        text-align: right;\n",
       "    }\n",
       "</style>\n",
       "<table border=\"1\" class=\"dataframe\">\n",
       "  <thead>\n",
       "    <tr style=\"text-align: right;\">\n",
       "      <th></th>\n",
       "      <th>contents</th>\n",
       "      <th>keywords</th>\n",
       "    </tr>\n",
       "  </thead>\n",
       "  <tbody>\n",
       "    <tr>\n",
       "      <th>0</th>\n",
       "      <td>Things you buy through our links may earn Vox ...</td>\n",
       "      <td>other</td>\n",
       "    </tr>\n",
       "    <tr>\n",
       "      <th>1</th>\n",
       "      <td>Sign up here to get it nightly. The boat was a...</td>\n",
       "      <td>other</td>\n",
       "    </tr>\n",
       "    <tr>\n",
       "      <th>2</th>\n",
       "      <td>All rounded edges, the five decks — one with a...</td>\n",
       "      <td>other</td>\n",
       "    </tr>\n",
       "    <tr>\n",
       "      <th>3</th>\n",
       "      <td>No matter that they had originally told friend...</td>\n",
       "      <td>other</td>\n",
       "    </tr>\n",
       "    <tr>\n",
       "      <th>4</th>\n",
       "      <td>” The name the buyers had in mind was cleverly...</td>\n",
       "      <td>Su Zhu, Kyle Davies, Zhu, Davies</td>\n",
       "    </tr>\n",
       "    <tr>\n",
       "      <th>...</th>\n",
       "      <td>...</td>\n",
       "      <td>...</td>\n",
       "    </tr>\n",
       "    <tr>\n",
       "      <th>173</th>\n",
       "      <td>The oasis offers a particular advantage, say l...</td>\n",
       "      <td>other</td>\n",
       "    </tr>\n",
       "    <tr>\n",
       "      <th>174</th>\n",
       "      <td>Thank you for subscribing and supporting our j...</td>\n",
       "      <td>other</td>\n",
       "    </tr>\n",
       "    <tr>\n",
       "      <th>175</th>\n",
       "      <td>Want more stories like this one? Subscribe now...</td>\n",
       "      <td>other</td>\n",
       "    </tr>\n",
       "    <tr>\n",
       "      <th>176</th>\n",
       "      <td>If you prefer to read in print, you can also f...</td>\n",
       "      <td>other</td>\n",
       "    </tr>\n",
       "    <tr>\n",
       "      <th>177</th>\n",
       "      <td>Things you buy through our links may earn Vox ...</td>\n",
       "      <td>other</td>\n",
       "    </tr>\n",
       "  </tbody>\n",
       "</table>\n",
       "<p>178 rows × 2 columns</p>\n",
       "</div>"
      ],
      "text/plain": [
       "                                              contents  \\\n",
       "0    Things you buy through our links may earn Vox ...   \n",
       "1    Sign up here to get it nightly. The boat was a...   \n",
       "2    All rounded edges, the five decks — one with a...   \n",
       "3    No matter that they had originally told friend...   \n",
       "4    ” The name the buyers had in mind was cleverly...   \n",
       "..                                                 ...   \n",
       "173  The oasis offers a particular advantage, say l...   \n",
       "174  Thank you for subscribing and supporting our j...   \n",
       "175  Want more stories like this one? Subscribe now...   \n",
       "176  If you prefer to read in print, you can also f...   \n",
       "177  Things you buy through our links may earn Vox ...   \n",
       "\n",
       "                             keywords  \n",
       "0                               other  \n",
       "1                               other  \n",
       "2                               other  \n",
       "3                               other  \n",
       "4    Su Zhu, Kyle Davies, Zhu, Davies  \n",
       "..                                ...  \n",
       "173                             other  \n",
       "174                             other  \n",
       "175                             other  \n",
       "176                             other  \n",
       "177                             other  \n",
       "\n",
       "[178 rows x 2 columns]"
      ]
     },
     "execution_count": 35,
     "metadata": {},
     "output_type": "execute_result"
    }
   ],
   "source": [
    "df"
   ]
  },
  {
   "cell_type": "code",
   "execution_count": 36,
   "metadata": {},
   "outputs": [],
   "source": [
    "# save to txt \n",
    "df.to_csv('cz3.txt',index=None, sep='\\t')\n",
    "\n",
    "#create branch and make a pull request"
   ]
  }
 ],
 "metadata": {
  "kernelspec": {
   "display_name": "base",
   "language": "python",
   "name": "python3"
  },
  "language_info": {
   "codemirror_mode": {
    "name": "ipython",
    "version": 3
   },
   "file_extension": ".py",
   "mimetype": "text/x-python",
   "name": "python",
   "nbconvert_exporter": "python",
   "pygments_lexer": "ipython3",
   "version": "3.12.4"
  }
 },
 "nbformat": 4,
 "nbformat_minor": 2
}
