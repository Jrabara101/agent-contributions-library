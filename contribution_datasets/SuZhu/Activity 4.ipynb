{
 "cells": [
  {
   "cell_type": "code",
   "execution_count": 37,
   "metadata": {},
   "outputs": [],
   "source": [
    "from bs4 import BeautifulSoup as bs\n",
    "import requests\n",
    "import pandas as pd"
   ]
  },
  {
   "cell_type": "code",
   "execution_count": 38,
   "metadata": {},
   "outputs": [],
   "source": [
    "web = 'https://en.wikipedia.org/wiki/Hedge_fund#'\n",
    "response = requests.get(web).text\n",
    "soup = bs(response,'lxml')"
   ]
  },
  {
   "cell_type": "code",
   "execution_count": 39,
   "metadata": {},
   "outputs": [],
   "source": [
    "blocks = soup.find_all('p')"
   ]
  },
  {
   "cell_type": "code",
   "execution_count": 40,
   "metadata": {},
   "outputs": [],
   "source": [
    "contents = []\n",
    "\n",
    "for content in blocks:\n",
    "    contents.append(content.text)"
   ]
  },
  {
   "cell_type": "code",
   "execution_count": 41,
   "metadata": {},
   "outputs": [],
   "source": [
    "joined_contents = ' '.join(contents)"
   ]
  },
  {
   "cell_type": "code",
   "execution_count": 42,
   "metadata": {},
   "outputs": [],
   "source": [
    "sentence_endings = [\".\", \"!\", \"?\"]\n",
    "sentences = []\n",
    "\n",
    "start = 0\n",
    "for i, char in enumerate(joined_contents):\n",
    "    if char in sentence_endings:\n",
    "        # Include the punctuation mark with the sentence\n",
    "        sentences.append(joined_contents[start:i+1].strip())\n",
    "        start = i + 1  # Move past the punctuation mark\n",
    "\n",
    "#Group the sentences into chunks of 2\n",
    "chunks = [\" \".join(sentences[i:i+2]) for i in range(0, len(sentences), 2)]"
   ]
  },
  {
   "cell_type": "code",
   "execution_count": 43,
   "metadata": {},
   "outputs": [],
   "source": [
    "cz_keywords = [\n",
    "    \"Hedge fund\", \n",
    "    \"Etymology\", \n",
    "    \"History\", \n",
    "    \"Notable hedge fund managers\", \n",
    "    \"Strategies\", \n",
    "    \"Risk\", \n",
    "    \"Fees and remuneration\",\n",
    "    \"Structure\",\n",
    "    \"Regulation\",\n",
    "    \"Performance\",\n",
    "    \"Debates and controversies\",\n",
    "]\n"
   ]
  },
  {
   "cell_type": "code",
   "execution_count": 44,
   "metadata": {},
   "outputs": [],
   "source": [
    "# Function to find keywords in a sentence\n",
    "def find_keywords(sentence, keywords):\n",
    "    return [keyword for keyword in keywords if keyword.lower() in sentence.lower()]\n",
    "\n",
    "# Function to replace empty keyword lists with 'other'\n",
    "def process_keywords(keywords):\n",
    "    return ', '.join(keywords) if keywords else \"other\""
   ]
  },
  {
   "cell_type": "code",
   "execution_count": 45,
   "metadata": {},
   "outputs": [],
   "source": [
    "data = {'contents':[],'keywords':[]}\n",
    "\n",
    "# Process each sentence\n",
    "for sentence in chunks:\n",
    "    found_keywords = find_keywords(sentence, cz_keywords)\n",
    "    data['contents'].append(sentence)\n",
    "    data['keywords'].append(process_keywords(found_keywords))"
   ]
  },
  {
   "cell_type": "code",
   "execution_count": 46,
   "metadata": {},
   "outputs": [],
   "source": [
    "df = pd.DataFrame(data)"
   ]
  },
  {
   "cell_type": "code",
   "execution_count": 47,
   "metadata": {},
   "outputs": [
    {
     "data": {
      "text/html": [
       "<div>\n",
       "<style scoped>\n",
       "    .dataframe tbody tr th:only-of-type {\n",
       "        vertical-align: middle;\n",
       "    }\n",
       "\n",
       "    .dataframe tbody tr th {\n",
       "        vertical-align: top;\n",
       "    }\n",
       "\n",
       "    .dataframe thead th {\n",
       "        text-align: right;\n",
       "    }\n",
       "</style>\n",
       "<table border=\"1\" class=\"dataframe\">\n",
       "  <thead>\n",
       "    <tr style=\"text-align: right;\">\n",
       "      <th></th>\n",
       "      <th>contents</th>\n",
       "      <th>keywords</th>\n",
       "    </tr>\n",
       "  </thead>\n",
       "  <tbody>\n",
       "    <tr>\n",
       "      <th>0</th>\n",
       "      <td>A hedge fund is a pooled investment fund that ...</td>\n",
       "      <td>Hedge fund, Risk, Performance</td>\n",
       "    </tr>\n",
       "    <tr>\n",
       "      <th>1</th>\n",
       "      <td>[1] In the United States, financial regulation...</td>\n",
       "      <td>Hedge fund, Regulation</td>\n",
       "    </tr>\n",
       "    <tr>\n",
       "      <th>2</th>\n",
       "      <td>Their ability to use leverage and more complex...</td>\n",
       "      <td>Hedge fund</td>\n",
       "    </tr>\n",
       "    <tr>\n",
       "      <th>3</th>\n",
       "      <td>This means they typically allow investors to i...</td>\n",
       "      <td>Hedge fund</td>\n",
       "    </tr>\n",
       "    <tr>\n",
       "      <th>4</th>\n",
       "      <td>Although hedge funds are not subject to the ma...</td>\n",
       "      <td>Hedge fund, Strategies, Risk, Regulation</td>\n",
       "    </tr>\n",
       "    <tr>\n",
       "      <th>...</th>\n",
       "      <td>...</td>\n",
       "      <td>...</td>\n",
       "    </tr>\n",
       "    <tr>\n",
       "      <th>219</th>\n",
       "      <td>These reasons are:\\n Several studies have sugg...</td>\n",
       "      <td>Hedge fund, Performance</td>\n",
       "    </tr>\n",
       "    <tr>\n",
       "      <th>220</th>\n",
       "      <td>To demonstrate this, Kritzman repeated the opt...</td>\n",
       "      <td>Hedge fund, Performance</td>\n",
       "    </tr>\n",
       "    <tr>\n",
       "      <th>221</th>\n",
       "      <td>Hedge funds tend to perform poorly during equi...</td>\n",
       "      <td>Hedge fund</td>\n",
       "    </tr>\n",
       "    <tr>\n",
       "      <th>222</th>\n",
       "      <td>87%. [280] According to the same index series,...</td>\n",
       "      <td>other</td>\n",
       "    </tr>\n",
       "    <tr>\n",
       "      <th>223</th>\n",
       "      <td>08% in September 2008, when Lehman Brothers co...</td>\n",
       "      <td>other</td>\n",
       "    </tr>\n",
       "  </tbody>\n",
       "</table>\n",
       "<p>224 rows × 2 columns</p>\n",
       "</div>"
      ],
      "text/plain": [
       "                                              contents  \\\n",
       "0    A hedge fund is a pooled investment fund that ...   \n",
       "1    [1] In the United States, financial regulation...   \n",
       "2    Their ability to use leverage and more complex...   \n",
       "3    This means they typically allow investors to i...   \n",
       "4    Although hedge funds are not subject to the ma...   \n",
       "..                                                 ...   \n",
       "219  These reasons are:\\n Several studies have sugg...   \n",
       "220  To demonstrate this, Kritzman repeated the opt...   \n",
       "221  Hedge funds tend to perform poorly during equi...   \n",
       "222  87%. [280] According to the same index series,...   \n",
       "223  08% in September 2008, when Lehman Brothers co...   \n",
       "\n",
       "                                     keywords  \n",
       "0               Hedge fund, Risk, Performance  \n",
       "1                      Hedge fund, Regulation  \n",
       "2                                  Hedge fund  \n",
       "3                                  Hedge fund  \n",
       "4    Hedge fund, Strategies, Risk, Regulation  \n",
       "..                                        ...  \n",
       "219                   Hedge fund, Performance  \n",
       "220                   Hedge fund, Performance  \n",
       "221                                Hedge fund  \n",
       "222                                     other  \n",
       "223                                     other  \n",
       "\n",
       "[224 rows x 2 columns]"
      ]
     },
     "execution_count": 47,
     "metadata": {},
     "output_type": "execute_result"
    }
   ],
   "source": [
    "df"
   ]
  },
  {
   "cell_type": "code",
   "execution_count": 48,
   "metadata": {},
   "outputs": [],
   "source": [
    "# save to txt \n",
    "df.to_csv('cz2.txt',index=None, sep='\\t')\n",
    "\n",
    "#create branch and make a pull request"
   ]
  }
 ],
 "metadata": {
  "kernelspec": {
   "display_name": "base",
   "language": "python",
   "name": "python3"
  },
  "language_info": {
   "codemirror_mode": {
    "name": "ipython",
    "version": 3
   },
   "file_extension": ".py",
   "mimetype": "text/x-python",
   "name": "python",
   "nbconvert_exporter": "python",
   "pygments_lexer": "ipython3",
   "version": "3.12.4"
  }
 },
 "nbformat": 4,
 "nbformat_minor": 2
}
